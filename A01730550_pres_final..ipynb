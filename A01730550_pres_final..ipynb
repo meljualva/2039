{
 "cells": [
  {
   "cell_type": "markdown",
   "id": "abbd336b",
   "metadata": {},
   "source": [
    "# Evaluación final. Evaluación del desarrollo de mis competencias.\n"
   ]
  },
  {
   "cell_type": "markdown",
   "id": "7f84858e",
   "metadata": {},
   "source": [
    "Melanie Juarez Alvarado A01730550 "
   ]
  },
  {
   "cell_type": "markdown",
   "id": "9afae1ec",
   "metadata": {},
   "source": [
    "Introducción:\n",
    "Los incendios forestales son un problema medioambiental importante, ya que aparte de causar daños económicos, también ponen en peligro la vida de muchas especies.\n",
    "\n",
    "\n",
    "Por esta razón, es importante contar con equipos especializados en su detección como herramientas automáticas basadas en sensores locales o realizar predicciones para controlar este fenómeno.\n",
    "\n",
    "\n",
    "En este entregable se usará una base de datos multivariante para responder preguntas acerca de los incendios forestales en la región noreste de Portugal, mediante el uso de datos meteorológicos."
   ]
  },
  {
   "cell_type": "markdown",
   "id": "9bf6a50d",
   "metadata": {},
   "source": [
    "# Variables"
   ]
  },
  {
   "cell_type": "code",
   "execution_count": 22,
   "id": "f8e33356",
   "metadata": {},
   "outputs": [
    {
     "name": "stdout",
     "output_type": "stream",
     "text": [
      "['X', 'Y', 'month', 'day', 'FFMC', 'DMC', 'DC', 'ISI', 'temp', 'RH', 'wind', 'rain', 'area']\n"
     ]
    }
   ],
   "source": [
    "import pandas as pd # linea para importar la biblioteca de pandas\n",
    "df = pd.read_csv('forestfires.csv') # Leer el archivo csv y se guarde en la variable df\n",
    "column_names = list(df.columns) #Hace una lista con  las columnas del archivo y las guarda en la varaible column_names\n",
    "print(column_names) #Muestra el nombre de las columnas en forma de lista"
   ]
  },
  {
   "cell_type": "markdown",
   "id": "0de214da",
   "metadata": {},
   "source": [
    "Las variables de este problema son las anteriores mostradas y estas tienen los siguientes atributos:\n",
    " \n",
    "\n",
    "X - coordenada espacial del eje x dentro del mapa del parque Montesinho: 1 a 9  (Discreto)\n",
    "\n",
    "Y - coordenada espacial del eje y dentro del mapa del parque Montesinho: 2 a 9 (Discreto)\n",
    "\n",
    "Month- mes del año: 'jan' a 'dic' (Categórico)\n",
    "\n",
    "Day- día de la semana: 'lun' a 'sun' (Categórico)\n",
    "\n",
    "FFMC - Índice FFMC del sistema FWI: 18,7 a 96,20DMC (Categórico)\n",
    "\n",
    "Índice DMC del sistema FWI: 1.1 a 291.3 Índice CC (Categórico)\n",
    "\n",
    "CC del sistema FWI: 7,9 a 860,6 (Categórico)\n",
    "\n",
    "ISI - Índice ISI del sistema FWI: 0.0 a 56.10 (Categórico)\n",
    "\n",
    "Temp - temperatura en grados Celsius: 2.2 a 33.30 (Continuo)\n",
    "\n",
    "RH - humedad relativa en%: 15.0 a 100 ( continuo)\n",
    "\n",
    "Wind - velocidad del viento en km / h: 0,40 a 9,40 (Continuo)\n",
    "\n",
    "Rain - lluvia exterior en mm / m2: 0,0 a 6,4 (Continuo)\n",
    "\n",
    "Área - el área quemada del bosque (en ha): 0.00 a 109.08(Continuo)\n"
   ]
  },
  {
   "cell_type": "markdown",
   "id": "0d83b070",
   "metadata": {},
   "source": [
    "# Comportamientos entre variables"
   ]
  },
  {
   "cell_type": "code",
   "execution_count": 23,
   "id": "efb50ebe",
   "metadata": {},
   "outputs": [
    {
     "data": {
      "text/html": [
       "<div>\n",
       "<style scoped>\n",
       "    .dataframe tbody tr th:only-of-type {\n",
       "        vertical-align: middle;\n",
       "    }\n",
       "\n",
       "    .dataframe tbody tr th {\n",
       "        vertical-align: top;\n",
       "    }\n",
       "\n",
       "    .dataframe thead th {\n",
       "        text-align: right;\n",
       "    }\n",
       "</style>\n",
       "<table border=\"1\" class=\"dataframe\">\n",
       "  <thead>\n",
       "    <tr style=\"text-align: right;\">\n",
       "      <th></th>\n",
       "      <th>X</th>\n",
       "      <th>Y</th>\n",
       "      <th>FFMC</th>\n",
       "      <th>DMC</th>\n",
       "      <th>DC</th>\n",
       "      <th>ISI</th>\n",
       "      <th>temp</th>\n",
       "      <th>RH</th>\n",
       "      <th>wind</th>\n",
       "      <th>rain</th>\n",
       "      <th>area</th>\n",
       "    </tr>\n",
       "  </thead>\n",
       "  <tbody>\n",
       "    <tr>\n",
       "      <th>X</th>\n",
       "      <td>1.000000</td>\n",
       "      <td>0.539548</td>\n",
       "      <td>-0.021039</td>\n",
       "      <td>-0.048384</td>\n",
       "      <td>-0.085916</td>\n",
       "      <td>0.006210</td>\n",
       "      <td>-0.051258</td>\n",
       "      <td>0.085223</td>\n",
       "      <td>0.018798</td>\n",
       "      <td>0.065387</td>\n",
       "      <td>0.063385</td>\n",
       "    </tr>\n",
       "    <tr>\n",
       "      <th>Y</th>\n",
       "      <td>0.539548</td>\n",
       "      <td>1.000000</td>\n",
       "      <td>-0.046308</td>\n",
       "      <td>0.007782</td>\n",
       "      <td>-0.101178</td>\n",
       "      <td>-0.024488</td>\n",
       "      <td>-0.024103</td>\n",
       "      <td>0.062221</td>\n",
       "      <td>-0.020341</td>\n",
       "      <td>0.033234</td>\n",
       "      <td>0.044873</td>\n",
       "    </tr>\n",
       "    <tr>\n",
       "      <th>FFMC</th>\n",
       "      <td>-0.021039</td>\n",
       "      <td>-0.046308</td>\n",
       "      <td>1.000000</td>\n",
       "      <td>0.382619</td>\n",
       "      <td>0.330512</td>\n",
       "      <td>0.531805</td>\n",
       "      <td>0.431532</td>\n",
       "      <td>-0.300995</td>\n",
       "      <td>-0.028485</td>\n",
       "      <td>0.056702</td>\n",
       "      <td>0.040122</td>\n",
       "    </tr>\n",
       "    <tr>\n",
       "      <th>DMC</th>\n",
       "      <td>-0.048384</td>\n",
       "      <td>0.007782</td>\n",
       "      <td>0.382619</td>\n",
       "      <td>1.000000</td>\n",
       "      <td>0.682192</td>\n",
       "      <td>0.305128</td>\n",
       "      <td>0.469594</td>\n",
       "      <td>0.073795</td>\n",
       "      <td>-0.105342</td>\n",
       "      <td>0.074790</td>\n",
       "      <td>0.072994</td>\n",
       "    </tr>\n",
       "    <tr>\n",
       "      <th>DC</th>\n",
       "      <td>-0.085916</td>\n",
       "      <td>-0.101178</td>\n",
       "      <td>0.330512</td>\n",
       "      <td>0.682192</td>\n",
       "      <td>1.000000</td>\n",
       "      <td>0.229154</td>\n",
       "      <td>0.496208</td>\n",
       "      <td>-0.039192</td>\n",
       "      <td>-0.203466</td>\n",
       "      <td>0.035861</td>\n",
       "      <td>0.049383</td>\n",
       "    </tr>\n",
       "    <tr>\n",
       "      <th>ISI</th>\n",
       "      <td>0.006210</td>\n",
       "      <td>-0.024488</td>\n",
       "      <td>0.531805</td>\n",
       "      <td>0.305128</td>\n",
       "      <td>0.229154</td>\n",
       "      <td>1.000000</td>\n",
       "      <td>0.394287</td>\n",
       "      <td>-0.132517</td>\n",
       "      <td>0.106826</td>\n",
       "      <td>0.067668</td>\n",
       "      <td>0.008258</td>\n",
       "    </tr>\n",
       "    <tr>\n",
       "      <th>temp</th>\n",
       "      <td>-0.051258</td>\n",
       "      <td>-0.024103</td>\n",
       "      <td>0.431532</td>\n",
       "      <td>0.469594</td>\n",
       "      <td>0.496208</td>\n",
       "      <td>0.394287</td>\n",
       "      <td>1.000000</td>\n",
       "      <td>-0.527390</td>\n",
       "      <td>-0.227116</td>\n",
       "      <td>0.069491</td>\n",
       "      <td>0.097844</td>\n",
       "    </tr>\n",
       "    <tr>\n",
       "      <th>RH</th>\n",
       "      <td>0.085223</td>\n",
       "      <td>0.062221</td>\n",
       "      <td>-0.300995</td>\n",
       "      <td>0.073795</td>\n",
       "      <td>-0.039192</td>\n",
       "      <td>-0.132517</td>\n",
       "      <td>-0.527390</td>\n",
       "      <td>1.000000</td>\n",
       "      <td>0.069410</td>\n",
       "      <td>0.099751</td>\n",
       "      <td>-0.075519</td>\n",
       "    </tr>\n",
       "    <tr>\n",
       "      <th>wind</th>\n",
       "      <td>0.018798</td>\n",
       "      <td>-0.020341</td>\n",
       "      <td>-0.028485</td>\n",
       "      <td>-0.105342</td>\n",
       "      <td>-0.203466</td>\n",
       "      <td>0.106826</td>\n",
       "      <td>-0.227116</td>\n",
       "      <td>0.069410</td>\n",
       "      <td>1.000000</td>\n",
       "      <td>0.061119</td>\n",
       "      <td>0.012317</td>\n",
       "    </tr>\n",
       "    <tr>\n",
       "      <th>rain</th>\n",
       "      <td>0.065387</td>\n",
       "      <td>0.033234</td>\n",
       "      <td>0.056702</td>\n",
       "      <td>0.074790</td>\n",
       "      <td>0.035861</td>\n",
       "      <td>0.067668</td>\n",
       "      <td>0.069491</td>\n",
       "      <td>0.099751</td>\n",
       "      <td>0.061119</td>\n",
       "      <td>1.000000</td>\n",
       "      <td>-0.007366</td>\n",
       "    </tr>\n",
       "    <tr>\n",
       "      <th>area</th>\n",
       "      <td>0.063385</td>\n",
       "      <td>0.044873</td>\n",
       "      <td>0.040122</td>\n",
       "      <td>0.072994</td>\n",
       "      <td>0.049383</td>\n",
       "      <td>0.008258</td>\n",
       "      <td>0.097844</td>\n",
       "      <td>-0.075519</td>\n",
       "      <td>0.012317</td>\n",
       "      <td>-0.007366</td>\n",
       "      <td>1.000000</td>\n",
       "    </tr>\n",
       "  </tbody>\n",
       "</table>\n",
       "</div>"
      ],
      "text/plain": [
       "             X         Y      FFMC       DMC        DC       ISI      temp  \\\n",
       "X     1.000000  0.539548 -0.021039 -0.048384 -0.085916  0.006210 -0.051258   \n",
       "Y     0.539548  1.000000 -0.046308  0.007782 -0.101178 -0.024488 -0.024103   \n",
       "FFMC -0.021039 -0.046308  1.000000  0.382619  0.330512  0.531805  0.431532   \n",
       "DMC  -0.048384  0.007782  0.382619  1.000000  0.682192  0.305128  0.469594   \n",
       "DC   -0.085916 -0.101178  0.330512  0.682192  1.000000  0.229154  0.496208   \n",
       "ISI   0.006210 -0.024488  0.531805  0.305128  0.229154  1.000000  0.394287   \n",
       "temp -0.051258 -0.024103  0.431532  0.469594  0.496208  0.394287  1.000000   \n",
       "RH    0.085223  0.062221 -0.300995  0.073795 -0.039192 -0.132517 -0.527390   \n",
       "wind  0.018798 -0.020341 -0.028485 -0.105342 -0.203466  0.106826 -0.227116   \n",
       "rain  0.065387  0.033234  0.056702  0.074790  0.035861  0.067668  0.069491   \n",
       "area  0.063385  0.044873  0.040122  0.072994  0.049383  0.008258  0.097844   \n",
       "\n",
       "            RH      wind      rain      area  \n",
       "X     0.085223  0.018798  0.065387  0.063385  \n",
       "Y     0.062221 -0.020341  0.033234  0.044873  \n",
       "FFMC -0.300995 -0.028485  0.056702  0.040122  \n",
       "DMC   0.073795 -0.105342  0.074790  0.072994  \n",
       "DC   -0.039192 -0.203466  0.035861  0.049383  \n",
       "ISI  -0.132517  0.106826  0.067668  0.008258  \n",
       "temp -0.527390 -0.227116  0.069491  0.097844  \n",
       "RH    1.000000  0.069410  0.099751 -0.075519  \n",
       "wind  0.069410  1.000000  0.061119  0.012317  \n",
       "rain  0.099751  0.061119  1.000000 -0.007366  \n",
       "area -0.075519  0.012317 -0.007366  1.000000  "
      ]
     },
     "execution_count": 23,
     "metadata": {},
     "output_type": "execute_result"
    }
   ],
   "source": [
    "df.corr() #Se calcula la correlación entre las variables"
   ]
  },
  {
   "cell_type": "markdown",
   "id": "e1a19946",
   "metadata": {},
   "source": [
    "Aquí se muestra la correlación entre las variables. Si la correlación está entre -1 y 1, se tiene una correlación fuerte, mientras que si se tiene una correlación pegada a 0, quiere decir que es una correlación débil. Un punto importante que se tiene que tomar en cuenta es que una correlación no te muestra la causa-efecto."
   ]
  },
  {
   "cell_type": "markdown",
   "id": "25eb41df",
   "metadata": {},
   "source": [
    "# Preguntas a responder"
   ]
  },
  {
   "cell_type": "markdown",
   "id": "6de4bbe8",
   "metadata": {},
   "source": [
    " - ¿En qué mes hay más incendios y cómo son sus condiciones meteorologicas a comparación de otros meses?"
   ]
  },
  {
   "cell_type": "code",
   "execution_count": 24,
   "id": "1774c006",
   "metadata": {},
   "outputs": [
    {
     "data": {
      "text/plain": [
       "month\n",
       "apr      9\n",
       "aug    184\n",
       "dec      9\n",
       "feb     20\n",
       "jan      2\n",
       "jul     32\n",
       "jun     17\n",
       "mar     54\n",
       "may      2\n",
       "nov      1\n",
       "oct     15\n",
       "sep    172\n",
       "dtype: int64"
      ]
     },
     "execution_count": 24,
     "metadata": {},
     "output_type": "execute_result"
    }
   ],
   "source": [
    "#No se puede usar histograma porque no tiene valor numerico. Si se quiere usar, tengo que transformarlo a valores. \n",
    "df.groupby([\"month\"]).size() #Lee la variable de columna y le pone el tamaño dependiendo a los datos de tu variable."
   ]
  },
  {
   "cell_type": "code",
   "execution_count": 25,
   "id": "71980589",
   "metadata": {},
   "outputs": [
    {
     "data": {
      "text/html": [
       "<div>\n",
       "<style scoped>\n",
       "    .dataframe tbody tr th:only-of-type {\n",
       "        vertical-align: middle;\n",
       "    }\n",
       "\n",
       "    .dataframe tbody tr th {\n",
       "        vertical-align: top;\n",
       "    }\n",
       "\n",
       "    .dataframe thead th {\n",
       "        text-align: right;\n",
       "    }\n",
       "</style>\n",
       "<table border=\"1\" class=\"dataframe\">\n",
       "  <thead>\n",
       "    <tr style=\"text-align: right;\">\n",
       "      <th></th>\n",
       "      <th>RH</th>\n",
       "      <th>rain</th>\n",
       "      <th>temp</th>\n",
       "      <th>wind</th>\n",
       "    </tr>\n",
       "    <tr>\n",
       "      <th>month</th>\n",
       "      <th></th>\n",
       "      <th></th>\n",
       "      <th></th>\n",
       "      <th></th>\n",
       "    </tr>\n",
       "  </thead>\n",
       "  <tbody>\n",
       "    <tr>\n",
       "      <th>apr</th>\n",
       "      <td>46.888889</td>\n",
       "      <td>0.000000</td>\n",
       "      <td>12.044444</td>\n",
       "      <td>4.666667</td>\n",
       "    </tr>\n",
       "    <tr>\n",
       "      <th>aug</th>\n",
       "      <td>45.489130</td>\n",
       "      <td>0.058696</td>\n",
       "      <td>21.631522</td>\n",
       "      <td>4.086413</td>\n",
       "    </tr>\n",
       "    <tr>\n",
       "      <th>dec</th>\n",
       "      <td>38.444444</td>\n",
       "      <td>0.000000</td>\n",
       "      <td>4.522222</td>\n",
       "      <td>7.644444</td>\n",
       "    </tr>\n",
       "    <tr>\n",
       "      <th>feb</th>\n",
       "      <td>55.700000</td>\n",
       "      <td>0.000000</td>\n",
       "      <td>9.635000</td>\n",
       "      <td>3.755000</td>\n",
       "    </tr>\n",
       "    <tr>\n",
       "      <th>jan</th>\n",
       "      <td>89.000000</td>\n",
       "      <td>0.000000</td>\n",
       "      <td>5.250000</td>\n",
       "      <td>2.000000</td>\n",
       "    </tr>\n",
       "    <tr>\n",
       "      <th>jul</th>\n",
       "      <td>45.125000</td>\n",
       "      <td>0.006250</td>\n",
       "      <td>22.109375</td>\n",
       "      <td>3.734375</td>\n",
       "    </tr>\n",
       "    <tr>\n",
       "      <th>jun</th>\n",
       "      <td>45.117647</td>\n",
       "      <td>0.000000</td>\n",
       "      <td>20.494118</td>\n",
       "      <td>4.135294</td>\n",
       "    </tr>\n",
       "    <tr>\n",
       "      <th>mar</th>\n",
       "      <td>40.000000</td>\n",
       "      <td>0.003704</td>\n",
       "      <td>13.083333</td>\n",
       "      <td>4.968519</td>\n",
       "    </tr>\n",
       "    <tr>\n",
       "      <th>may</th>\n",
       "      <td>67.000000</td>\n",
       "      <td>0.000000</td>\n",
       "      <td>14.650000</td>\n",
       "      <td>4.450000</td>\n",
       "    </tr>\n",
       "    <tr>\n",
       "      <th>nov</th>\n",
       "      <td>31.000000</td>\n",
       "      <td>0.000000</td>\n",
       "      <td>11.800000</td>\n",
       "      <td>4.500000</td>\n",
       "    </tr>\n",
       "    <tr>\n",
       "      <th>oct</th>\n",
       "      <td>37.466667</td>\n",
       "      <td>0.000000</td>\n",
       "      <td>17.093333</td>\n",
       "      <td>3.460000</td>\n",
       "    </tr>\n",
       "    <tr>\n",
       "      <th>sep</th>\n",
       "      <td>42.843023</td>\n",
       "      <td>0.000000</td>\n",
       "      <td>19.612209</td>\n",
       "      <td>3.557558</td>\n",
       "    </tr>\n",
       "    <tr>\n",
       "      <th>All</th>\n",
       "      <td>44.288201</td>\n",
       "      <td>0.021663</td>\n",
       "      <td>18.889168</td>\n",
       "      <td>4.017602</td>\n",
       "    </tr>\n",
       "  </tbody>\n",
       "</table>\n",
       "</div>"
      ],
      "text/plain": [
       "              RH      rain       temp      wind\n",
       "month                                          \n",
       "apr    46.888889  0.000000  12.044444  4.666667\n",
       "aug    45.489130  0.058696  21.631522  4.086413\n",
       "dec    38.444444  0.000000   4.522222  7.644444\n",
       "feb    55.700000  0.000000   9.635000  3.755000\n",
       "jan    89.000000  0.000000   5.250000  2.000000\n",
       "jul    45.125000  0.006250  22.109375  3.734375\n",
       "jun    45.117647  0.000000  20.494118  4.135294\n",
       "mar    40.000000  0.003704  13.083333  4.968519\n",
       "may    67.000000  0.000000  14.650000  4.450000\n",
       "nov    31.000000  0.000000  11.800000  4.500000\n",
       "oct    37.466667  0.000000  17.093333  3.460000\n",
       "sep    42.843023  0.000000  19.612209  3.557558\n",
       "All    44.288201  0.021663  18.889168  4.017602"
      ]
     },
     "execution_count": 25,
     "metadata": {},
     "output_type": "execute_result"
    }
   ],
   "source": [
    "pd.pivot_table(df, #generar una pivot table con la base de datos que tenemos \n",
    "               index =[\"month\"], #los renglones van a mostrar los meses, ese es el indice\n",
    "               values = [\"temp\",'RH','wind','rain'], #los valores que se van a mostrar son de las columas entre corchetes\n",
    "               aggfunc= 'mean',#El promedio de los valores es lo que se va a mostrar en la pivot table\n",
    "               margins=True #El margen da el \"ALL\" del promedio en este caso de las columnas\n",
    "              )"
   ]
  },
  {
   "cell_type": "markdown",
   "id": "6dd72fcb",
   "metadata": {},
   "source": [
    "Resultado: El mes de agosto es el mes con mayor cantidad de incendios.\n",
    "A comparación de otros meses, este mes es de los 3 meses con mayores temperaturas en el año, es de los meses con mayor cantidad de lluvia en mm / m2, su velocidad del viento es el 7mo más pequeño, y su humedad relativa es la 4ta más grande."
   ]
  },
  {
   "cell_type": "markdown",
   "id": "ede1299d",
   "metadata": {},
   "source": [
    "- ¿En días con una temperatura baja (de entre 0 a 15 grados) también hay incendios?"
   ]
  },
  {
   "cell_type": "code",
   "execution_count": 26,
   "id": "ef41342a",
   "metadata": {},
   "outputs": [],
   "source": [
    "def create_category(ranking): #Se crea una función\n",
    "    if (ranking>=0) &(ranking<=15):\n",
    "        return \"Dias frios\" #Se usa if para poner una condición. En este caso if nos ayuda a que la columna \n",
    "    #rank vaya adquiriendo diferentes etiquetas al momento de que se cumpla con la condición. \n",
    "    elif (ranking >15) &(ranking<=25):\n",
    "        return \"Dias normales\"\n",
    "    elif (ranking>25) &(ranking<=30):\n",
    "        return \"Dias calurosos\"\n",
    "    else: #Si ninguna de estas condiciones anteriores se cumple, con ayuda del elif se coloca la ultima condición. \n",
    "        \"Dias super calurosos \""
   ]
  },
  {
   "cell_type": "code",
   "execution_count": 27,
   "id": "b8e11b73",
   "metadata": {},
   "outputs": [
    {
     "data": {
      "text/html": [
       "<div>\n",
       "<style scoped>\n",
       "    .dataframe tbody tr th:only-of-type {\n",
       "        vertical-align: middle;\n",
       "    }\n",
       "\n",
       "    .dataframe tbody tr th {\n",
       "        vertical-align: top;\n",
       "    }\n",
       "\n",
       "    .dataframe thead th {\n",
       "        text-align: right;\n",
       "    }\n",
       "</style>\n",
       "<table border=\"1\" class=\"dataframe\">\n",
       "  <thead>\n",
       "    <tr style=\"text-align: right;\">\n",
       "      <th></th>\n",
       "      <th>X</th>\n",
       "      <th>Y</th>\n",
       "      <th>month</th>\n",
       "      <th>day</th>\n",
       "      <th>FFMC</th>\n",
       "      <th>DMC</th>\n",
       "      <th>DC</th>\n",
       "      <th>ISI</th>\n",
       "      <th>temp</th>\n",
       "      <th>RH</th>\n",
       "      <th>wind</th>\n",
       "      <th>rain</th>\n",
       "      <th>area</th>\n",
       "      <th>rank</th>\n",
       "    </tr>\n",
       "  </thead>\n",
       "  <tbody>\n",
       "    <tr>\n",
       "      <th>0</th>\n",
       "      <td>7</td>\n",
       "      <td>5</td>\n",
       "      <td>mar</td>\n",
       "      <td>fri</td>\n",
       "      <td>86.2</td>\n",
       "      <td>26.2</td>\n",
       "      <td>94.3</td>\n",
       "      <td>5.1</td>\n",
       "      <td>8.2</td>\n",
       "      <td>51</td>\n",
       "      <td>6.7</td>\n",
       "      <td>0.0</td>\n",
       "      <td>0.00</td>\n",
       "      <td>Dias frios</td>\n",
       "    </tr>\n",
       "    <tr>\n",
       "      <th>1</th>\n",
       "      <td>7</td>\n",
       "      <td>4</td>\n",
       "      <td>oct</td>\n",
       "      <td>tue</td>\n",
       "      <td>90.6</td>\n",
       "      <td>35.4</td>\n",
       "      <td>669.1</td>\n",
       "      <td>6.7</td>\n",
       "      <td>18.0</td>\n",
       "      <td>33</td>\n",
       "      <td>0.9</td>\n",
       "      <td>0.0</td>\n",
       "      <td>0.00</td>\n",
       "      <td>Dias normales</td>\n",
       "    </tr>\n",
       "    <tr>\n",
       "      <th>2</th>\n",
       "      <td>7</td>\n",
       "      <td>4</td>\n",
       "      <td>oct</td>\n",
       "      <td>sat</td>\n",
       "      <td>90.6</td>\n",
       "      <td>43.7</td>\n",
       "      <td>686.9</td>\n",
       "      <td>6.7</td>\n",
       "      <td>14.6</td>\n",
       "      <td>33</td>\n",
       "      <td>1.3</td>\n",
       "      <td>0.0</td>\n",
       "      <td>0.00</td>\n",
       "      <td>Dias frios</td>\n",
       "    </tr>\n",
       "    <tr>\n",
       "      <th>3</th>\n",
       "      <td>8</td>\n",
       "      <td>6</td>\n",
       "      <td>mar</td>\n",
       "      <td>fri</td>\n",
       "      <td>91.7</td>\n",
       "      <td>33.3</td>\n",
       "      <td>77.5</td>\n",
       "      <td>9.0</td>\n",
       "      <td>8.3</td>\n",
       "      <td>97</td>\n",
       "      <td>4.0</td>\n",
       "      <td>0.2</td>\n",
       "      <td>0.00</td>\n",
       "      <td>Dias frios</td>\n",
       "    </tr>\n",
       "    <tr>\n",
       "      <th>4</th>\n",
       "      <td>8</td>\n",
       "      <td>6</td>\n",
       "      <td>mar</td>\n",
       "      <td>sun</td>\n",
       "      <td>89.3</td>\n",
       "      <td>51.3</td>\n",
       "      <td>102.2</td>\n",
       "      <td>9.6</td>\n",
       "      <td>11.4</td>\n",
       "      <td>99</td>\n",
       "      <td>1.8</td>\n",
       "      <td>0.0</td>\n",
       "      <td>0.00</td>\n",
       "      <td>Dias frios</td>\n",
       "    </tr>\n",
       "    <tr>\n",
       "      <th>...</th>\n",
       "      <td>...</td>\n",
       "      <td>...</td>\n",
       "      <td>...</td>\n",
       "      <td>...</td>\n",
       "      <td>...</td>\n",
       "      <td>...</td>\n",
       "      <td>...</td>\n",
       "      <td>...</td>\n",
       "      <td>...</td>\n",
       "      <td>...</td>\n",
       "      <td>...</td>\n",
       "      <td>...</td>\n",
       "      <td>...</td>\n",
       "      <td>...</td>\n",
       "    </tr>\n",
       "    <tr>\n",
       "      <th>512</th>\n",
       "      <td>4</td>\n",
       "      <td>3</td>\n",
       "      <td>aug</td>\n",
       "      <td>sun</td>\n",
       "      <td>81.6</td>\n",
       "      <td>56.7</td>\n",
       "      <td>665.6</td>\n",
       "      <td>1.9</td>\n",
       "      <td>27.8</td>\n",
       "      <td>32</td>\n",
       "      <td>2.7</td>\n",
       "      <td>0.0</td>\n",
       "      <td>6.44</td>\n",
       "      <td>Dias calurosos</td>\n",
       "    </tr>\n",
       "    <tr>\n",
       "      <th>513</th>\n",
       "      <td>2</td>\n",
       "      <td>4</td>\n",
       "      <td>aug</td>\n",
       "      <td>sun</td>\n",
       "      <td>81.6</td>\n",
       "      <td>56.7</td>\n",
       "      <td>665.6</td>\n",
       "      <td>1.9</td>\n",
       "      <td>21.9</td>\n",
       "      <td>71</td>\n",
       "      <td>5.8</td>\n",
       "      <td>0.0</td>\n",
       "      <td>54.29</td>\n",
       "      <td>Dias normales</td>\n",
       "    </tr>\n",
       "    <tr>\n",
       "      <th>514</th>\n",
       "      <td>7</td>\n",
       "      <td>4</td>\n",
       "      <td>aug</td>\n",
       "      <td>sun</td>\n",
       "      <td>81.6</td>\n",
       "      <td>56.7</td>\n",
       "      <td>665.6</td>\n",
       "      <td>1.9</td>\n",
       "      <td>21.2</td>\n",
       "      <td>70</td>\n",
       "      <td>6.7</td>\n",
       "      <td>0.0</td>\n",
       "      <td>11.16</td>\n",
       "      <td>Dias normales</td>\n",
       "    </tr>\n",
       "    <tr>\n",
       "      <th>515</th>\n",
       "      <td>1</td>\n",
       "      <td>4</td>\n",
       "      <td>aug</td>\n",
       "      <td>sat</td>\n",
       "      <td>94.4</td>\n",
       "      <td>146.0</td>\n",
       "      <td>614.7</td>\n",
       "      <td>11.3</td>\n",
       "      <td>25.6</td>\n",
       "      <td>42</td>\n",
       "      <td>4.0</td>\n",
       "      <td>0.0</td>\n",
       "      <td>0.00</td>\n",
       "      <td>Dias calurosos</td>\n",
       "    </tr>\n",
       "    <tr>\n",
       "      <th>516</th>\n",
       "      <td>6</td>\n",
       "      <td>3</td>\n",
       "      <td>nov</td>\n",
       "      <td>tue</td>\n",
       "      <td>79.5</td>\n",
       "      <td>3.0</td>\n",
       "      <td>106.7</td>\n",
       "      <td>1.1</td>\n",
       "      <td>11.8</td>\n",
       "      <td>31</td>\n",
       "      <td>4.5</td>\n",
       "      <td>0.0</td>\n",
       "      <td>0.00</td>\n",
       "      <td>Dias frios</td>\n",
       "    </tr>\n",
       "  </tbody>\n",
       "</table>\n",
       "<p>517 rows × 14 columns</p>\n",
       "</div>"
      ],
      "text/plain": [
       "     X  Y month  day  FFMC    DMC     DC   ISI  temp  RH  wind  rain   area  \\\n",
       "0    7  5   mar  fri  86.2   26.2   94.3   5.1   8.2  51   6.7   0.0   0.00   \n",
       "1    7  4   oct  tue  90.6   35.4  669.1   6.7  18.0  33   0.9   0.0   0.00   \n",
       "2    7  4   oct  sat  90.6   43.7  686.9   6.7  14.6  33   1.3   0.0   0.00   \n",
       "3    8  6   mar  fri  91.7   33.3   77.5   9.0   8.3  97   4.0   0.2   0.00   \n",
       "4    8  6   mar  sun  89.3   51.3  102.2   9.6  11.4  99   1.8   0.0   0.00   \n",
       "..  .. ..   ...  ...   ...    ...    ...   ...   ...  ..   ...   ...    ...   \n",
       "512  4  3   aug  sun  81.6   56.7  665.6   1.9  27.8  32   2.7   0.0   6.44   \n",
       "513  2  4   aug  sun  81.6   56.7  665.6   1.9  21.9  71   5.8   0.0  54.29   \n",
       "514  7  4   aug  sun  81.6   56.7  665.6   1.9  21.2  70   6.7   0.0  11.16   \n",
       "515  1  4   aug  sat  94.4  146.0  614.7  11.3  25.6  42   4.0   0.0   0.00   \n",
       "516  6  3   nov  tue  79.5    3.0  106.7   1.1  11.8  31   4.5   0.0   0.00   \n",
       "\n",
       "               rank  \n",
       "0        Dias frios  \n",
       "1     Dias normales  \n",
       "2        Dias frios  \n",
       "3        Dias frios  \n",
       "4        Dias frios  \n",
       "..              ...  \n",
       "512  Dias calurosos  \n",
       "513   Dias normales  \n",
       "514   Dias normales  \n",
       "515  Dias calurosos  \n",
       "516      Dias frios  \n",
       "\n",
       "[517 rows x 14 columns]"
      ]
     },
     "execution_count": 27,
     "metadata": {},
     "output_type": "execute_result"
    }
   ],
   "source": [
    "df[\"rank\"]=df[\"temp\"].apply(lambda x:create_category(x)) #Con esto se crea una nueva categoria (columna) \n",
    "                                                         #en la base de datos.\n",
    "df"
   ]
  },
  {
   "cell_type": "code",
   "execution_count": 28,
   "id": "6c9d1c72",
   "metadata": {},
   "outputs": [
    {
     "data": {
      "text/plain": [
       "rank\n",
       "Dias calurosos     52\n",
       "Dias frios        113\n",
       "Dias normales     339\n",
       "dtype: int64"
      ]
     },
     "execution_count": 28,
     "metadata": {},
     "output_type": "execute_result"
    }
   ],
   "source": [
    " df.groupby([\"rank\"]).size() #Con esto se contabiliza la columna rank dependiendo a sus datos. "
   ]
  },
  {
   "cell_type": "markdown",
   "id": "d9752728",
   "metadata": {},
   "source": [
    "Efectivamente existen incendios inclusive si la temperatura es baja. De hecho se puede observar que en el año, hay más dias frios(de entre 0 a 15 grados) con incendios, que dias calurosos (de entre 25 a 30 grados) con incendios. "
   ]
  },
  {
   "cell_type": "markdown",
   "id": "bf476616",
   "metadata": {},
   "source": [
    "- ¿Entre más suba la temperatura, mas hectareas se queman?¿Se puede predecir cuantas hectareas se queman gracias a la temperatura'"
   ]
  },
  {
   "cell_type": "code",
   "execution_count": 29,
   "id": "e27bef02",
   "metadata": {},
   "outputs": [
    {
     "data": {
      "image/png": "[encoded data removed]",
      "text/plain": [
       "<Figure size 432x288 with 1 Axes>"
      ]
     },
     "metadata": {
      "needs_background": "light"
     },
     "output_type": "display_data"
    }
   ],
   "source": [
    "import seaborn as sns #Es un complemento de Matplotlib y se dirige específicamente a la visualización de datos estadísticos\n",
    "import matplotlib.pyplot as plt #Sirve para acceder a la biblioteca de matplotlib y así visualizar mejor la informacion \n",
    "tempplot= sns.regplot(x=\"temp\",  #el eje x va a estar dado por los valores de la temperatura\n",
    "                     y=\"area\", #el eje y va a estar dado por los valores del area\n",
    "                     data=df, #Es la base de datos que se va a utilizar\n",
    "                     color=\"r\", #El color que va a ser el gráfico, en este caso r = rojo\n",
    "                     marker=\"o\", #El color que va a ser el gráfico, en este caso r = rojo\n",
    "                     scatter_kws={\"s\":10}) #El tamaño de tus marcas \n",
    "#Los labels de tu gráfico\n",
    "tempplot.set(xlabel=\"Temperatura\",\n",
    "      ylabel=\"Área quemada\")\n",
    "#El título de tu gráfico\n",
    "tempplot.set_title(\"Regresión lineal de temperatura con respecto al área quemada\")\n",
    "plt.show() #mostrar tu gráfico"
   ]
  },
  {
   "cell_type": "code",
   "execution_count": 30,
   "id": "04391a92",
   "metadata": {},
   "outputs": [
    {
     "data": {
      "text/html": [
       "<table class=\"simpletable\">\n",
       "<caption>OLS Regression Results</caption>\n",
       "<tr>\n",
       "  <th>Dep. Variable:</th>            <td>Y</td>        <th>  R-squared:         </th> <td>   0.291</td>\n",
       "</tr>\n",
       "<tr>\n",
       "  <th>Model:</th>                   <td>OLS</td>       <th>  Adj. R-squared:    </th> <td>   0.290</td>\n",
       "</tr>\n",
       "<tr>\n",
       "  <th>Method:</th>             <td>Least Squares</td>  <th>  F-statistic:       </th> <td>   211.5</td>\n",
       "</tr>\n",
       "<tr>\n",
       "  <th>Date:</th>             <td>Wed, 08 Sep 2021</td> <th>  Prob (F-statistic):</th> <td>2.17e-40</td>\n",
       "</tr>\n",
       "<tr>\n",
       "  <th>Time:</th>                 <td>21:24:44</td>     <th>  Log-Likelihood:    </th> <td> -751.14</td>\n",
       "</tr>\n",
       "<tr>\n",
       "  <th>No. Observations:</th>      <td>   517</td>      <th>  AIC:               </th> <td>   1506.</td>\n",
       "</tr>\n",
       "<tr>\n",
       "  <th>Df Residuals:</th>          <td>   515</td>      <th>  BIC:               </th> <td>   1515.</td>\n",
       "</tr>\n",
       "<tr>\n",
       "  <th>Df Model:</th>              <td>     1</td>      <th>                     </th>     <td> </td>   \n",
       "</tr>\n",
       "<tr>\n",
       "  <th>Covariance Type:</th>      <td>nonrobust</td>    <th>                     </th>     <td> </td>   \n",
       "</tr>\n",
       "</table>\n",
       "<table class=\"simpletable\">\n",
       "<tr>\n",
       "      <td></td>         <th>coef</th>     <th>std err</th>      <th>t</th>      <th>P>|t|</th>  <th>[0.025</th>    <th>0.975]</th>  \n",
       "</tr>\n",
       "<tr>\n",
       "  <th>Intercept</th> <td>    2.9607</td> <td>    0.103</td> <td>   28.814</td> <td> 0.000</td> <td>    2.759</td> <td>    3.163</td>\n",
       "</tr>\n",
       "<tr>\n",
       "  <th>X</th>         <td>    0.2868</td> <td>    0.020</td> <td>   14.543</td> <td> 0.000</td> <td>    0.248</td> <td>    0.326</td>\n",
       "</tr>\n",
       "</table>\n",
       "<table class=\"simpletable\">\n",
       "<tr>\n",
       "  <th>Omnibus:</th>       <td> 7.186</td> <th>  Durbin-Watson:     </th> <td>   1.360</td>\n",
       "</tr>\n",
       "<tr>\n",
       "  <th>Prob(Omnibus):</th> <td> 0.028</td> <th>  Jarque-Bera (JB):  </th> <td>   7.067</td>\n",
       "</tr>\n",
       "<tr>\n",
       "  <th>Skew:</th>          <td> 0.259</td> <th>  Prob(JB):          </th> <td>  0.0292</td>\n",
       "</tr>\n",
       "<tr>\n",
       "  <th>Kurtosis:</th>      <td> 3.244</td> <th>  Cond. No.          </th> <td>    12.1</td>\n",
       "</tr>\n",
       "</table><br/><br/>Warnings:<br/>[1] Standard Errors assume that the covariance matrix of the errors is correctly specified."
      ],
      "text/plain": [
       "<class 'statsmodels.iolib.summary.Summary'>\n",
       "\"\"\"\n",
       "                            OLS Regression Results                            \n",
       "==============================================================================\n",
       "Dep. Variable:                      Y   R-squared:                       0.291\n",
       "Model:                            OLS   Adj. R-squared:                  0.290\n",
       "Method:                 Least Squares   F-statistic:                     211.5\n",
       "Date:                Wed, 08 Sep 2021   Prob (F-statistic):           2.17e-40\n",
       "Time:                        21:24:44   Log-Likelihood:                -751.14\n",
       "No. Observations:                 517   AIC:                             1506.\n",
       "Df Residuals:                     515   BIC:                             1515.\n",
       "Df Model:                           1                                         \n",
       "Covariance Type:            nonrobust                                         \n",
       "==============================================================================\n",
       "                 coef    std err          t      P>|t|      [0.025      0.975]\n",
       "------------------------------------------------------------------------------\n",
       "Intercept      2.9607      0.103     28.814      0.000       2.759       3.163\n",
       "X              0.2868      0.020     14.543      0.000       0.248       0.326\n",
       "==============================================================================\n",
       "Omnibus:                        7.186   Durbin-Watson:                   1.360\n",
       "Prob(Omnibus):                  0.028   Jarque-Bera (JB):                7.067\n",
       "Skew:                           0.259   Prob(JB):                       0.0292\n",
       "Kurtosis:                       3.244   Cond. No.                         12.1\n",
       "==============================================================================\n",
       "\n",
       "Warnings:\n",
       "[1] Standard Errors assume that the covariance matrix of the errors is correctly specified.\n",
       "\"\"\""
      ]
     },
     "execution_count": 30,
     "metadata": {},
     "output_type": "execute_result"
    }
   ],
   "source": [
    "X=df[\"temp\"].values #Valores en x\n",
    "Y=df['area'].values #Valores en y\n",
    "import statsmodels.api as sm #Biblioteca para poder mostrar modelos estadisticos\n",
    "\n",
    "model=sm.OLS.from_formula(\"Y~X\", #y=b0+b1*x\n",
    "                         data=df)\n",
    "result=model.fit() #Hacer el ajuste de modelo \n",
    "result.summary() #Mostrar la anova y el resumen de lo que se obtuvo "
   ]
  },
  {
   "cell_type": "markdown",
   "id": "287070b1",
   "metadata": {},
   "source": [
    "Se puede ver que se tiene una r cuadrada de 0.291, esto quiere decir que solo el 29.1% de las observaciones se ajusta a la regresión, por lo tanto no se puede predecir el numero de hectareas quemadas con la temperatura. Hay que recalcar que tampoco existe una relación entre la temperatura y la cantidad de hectareas que se quemaron. "
   ]
  },
  {
   "cell_type": "markdown",
   "id": "87527ac8",
   "metadata": {},
   "source": [
    "# Stakeholders interesados"
   ]
  },
  {
   "cell_type": "markdown",
   "id": "82da68b9",
   "metadata": {},
   "source": [
    "Gobierno, protección civil, bomberos, parques que también tengan gran cantidad de incendios en el año, comunidades aledañas,  reservas naturales y sus cuidadores. "
   ]
  },
  {
   "cell_type": "markdown",
   "id": "c370c96d",
   "metadata": {},
   "source": [
    "# Visualizaciones de datos (diagrama de caja y gráfico circular)"
   ]
  },
  {
   "cell_type": "markdown",
   "id": "0f24376d",
   "metadata": {},
   "source": [
    "¿Cuando hay incendios forestales existen vientos con velocidades extrañamenta altos o bajos (Valores atipicos) o se mantienen similares?"
   ]
  },
  {
   "cell_type": "code",
   "execution_count": 31,
   "id": "14222ad0",
   "metadata": {},
   "outputs": [
    {
     "data": {
      "image/png": "[encoded data removed]",
      "text/plain": [
       "<Figure size 432x288 with 1 Axes>"
      ]
     },
     "metadata": {
      "needs_background": "light"
     },
     "output_type": "display_data"
    }
   ],
   "source": [
    "import matplotlib.pyplot as plt #Sirve para acceder a la biblioteca de matplotlib y así visualizar mejor la informacion\n",
    "plt.boxplot(df['wind'])# hacer el boxplot con los valores de la variable de viento \n",
    "plt.show() # Mostrar el boxplot"
   ]
  },
  {
   "cell_type": "markdown",
   "id": "564bec5f",
   "metadata": {},
   "source": [
    "Se puede observar que existen valores atipicos en la parte superior del boxplot, esto quiere decir que en algunos incendios el viento adquiere una velocidad del viento en km / h mas elevada.  "
   ]
  },
  {
   "cell_type": "markdown",
   "id": "8116239b",
   "metadata": {},
   "source": [
    "- ¿Cuales son los valores de las condiciones meteorológicas más frecuentes en los incendios?"
   ]
  },
  {
   "cell_type": "code",
   "execution_count": 32,
   "id": "e1e5ff2e",
   "metadata": {},
   "outputs": [
    {
     "data": {
      "image/png": "[encoded data removed]",
      "text/plain": [
       "<Figure size 432x288 with 2 Axes>"
      ]
     },
     "metadata": {
      "needs_background": "light"
     },
     "output_type": "display_data"
    }
   ],
   "source": [
    "pd.DataFrame.hist(data=df, #Sirve para hacer un histograma y toma los valores de la base de datos\n",
    "                  bins=30, #El número de barras que forma\n",
    "                  column=['temp','wind']) #Los datos de las variables que va a tomar. Asi los gráficos salen uno a \n",
    "                  #lado del otro \n",
    "plt.show() # Mostrar el histograma"
   ]
  },
  {
   "cell_type": "markdown",
   "id": "89424f2f",
   "metadata": {},
   "source": [
    "Con esto se puede estimar que en el rango de temperatura que más se repite en los incendios es entre 19 y 20 grados; en el viento es de 2.2 a 2.5 km / h "
   ]
  },
  {
   "cell_type": "code",
   "execution_count": 33,
   "id": "21874e4d",
   "metadata": {},
   "outputs": [
    {
     "data": {
      "image/png": "[encoded data removed]",
      "text/plain": [
       "<Figure size 432x288 with 2 Axes>"
      ]
     },
     "metadata": {
      "needs_background": "light"
     },
     "output_type": "display_data"
    }
   ],
   "source": [
    "pd.DataFrame.hist(data=df,\n",
    "                  bins=30,#El número de barras que forma\n",
    "                  column=['RH','rain']) #Los datos de las variables que va a tomar.\n",
    "plt.show()# Mostrar el histograma"
   ]
  },
  {
   "cell_type": "markdown",
   "id": "7bf7177c",
   "metadata": {},
   "source": [
    "Con esto se puede estimar que en el rango de RH que más se repite en los incendios es entre 26.25 y 27.50 porciento, y en la cantidad de lluvia es de 0 mm / m2"
   ]
  },
  {
   "cell_type": "markdown",
   "id": "bcdbecfe",
   "metadata": {},
   "source": [
    "# Conclusiones:"
   ]
  },
  {
   "cell_type": "markdown",
   "id": "f8aff137",
   "metadata": {},
   "source": [
    "Con esta base de datos se pueden obtener los factores que afectan al entorno y que provocan un incendio, sin embargo, hay que mencionar que el modelo que predice futuros incendios no es lineal.De igual manera el modelo se pudo observar que la variable de hectareas quemadas no tiene correlación con las condiciones meteorologicas presentes, por lo que se recomeinda que se transformen los datos y se utilice un modelo SVM para predecir incendios pequeños. \n",
    "\n",
    "Con esta actividad aprendí a aplicar los codigos vistos en clase en un situación real e interpretar los datos que se visualizaban en la pantalla; de nada te sirve tener resultados en tablas o en graficos si no sabes que significan. \n",
    "\n",
    "De igual manera considero que esta actividad me ayudó en la toma de desiciones y pensar mas a fondo en cómo plasmar mis ideas de resolución de problemas en un código. \n",
    "\n",
    "En lo personal fue un gran reto porque no soy experta en python, por lo que muchas veces sabia cómo resolverlo mas no cómo ponerlo en código, por lo que deje de pensar de una sola forma y pensé en otras formas de llegar a la solución que queria mostrar. "
   ]
  },
  {
   "cell_type": "code",
   "execution_count": null,
   "id": "81c2291c",
   "metadata": {},
   "outputs": [],
   "source": []
  }
 ],
 "metadata": {
  "kernelspec": {
   "display_name": "Python 3",
   "language": "python",
   "name": "python3"
  },
  "language_info": {
   "codemirror_mode": {
    "name": "ipython",
    "version": 3
   },
   "file_extension": ".py",
   "mimetype": "text/x-python",
   "name": "python",
   "nbconvert_exporter": "python",
   "pygments_lexer": "ipython3",
   "version": "3.7.10"
  }
 },
 "nbformat": 4,
 "nbformat_minor": 5
}
